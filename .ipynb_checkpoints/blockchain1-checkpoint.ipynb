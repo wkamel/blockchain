{
 "cells": [
  {
   "cell_type": "code",
   "execution_count": 68,
   "metadata": {},
   "outputs": [],
   "source": [
    "import time\n",
    "import hashlib\n",
    "import json\n",
    "import random\n",
    "from pprint import pprint\n",
    "from datetime import datetime as dt\n",
    "from dataclasses import dataclass\n",
    "from collections import namedtuple\n",
    "\n",
    "\n",
    "payloads = [\n",
    "    \"ty jesteś gwiazda\",\n",
    "    \"z tobą jest jazda\",\n",
    "    \"chciałbym cię porwać do swego gniazda\",\n",
    "    \"dla ciebie kawior, szampan , truskawki\",\n",
    "    \"i jakie tylko zechcesz zabawki\"]\n",
    "\n",
    "\n",
    "\n",
    "\n",
    "\n",
    "\n",
    "\n"
   ]
  },
  {
   "cell_type": "markdown",
   "metadata": {},
   "source": [
    "# Fundament blockchain - Block"
   ]
  },
  {
   "cell_type": "code",
   "execution_count": 6,
   "metadata": {},
   "outputs": [],
   "source": [
    "\n",
    "@dataclass\n",
    "class Block:\n",
    "    index: int\n",
    "    payload: str\n",
    "    prev_hash: str    \n",
    "    timestamp = time.time()    \n",
    "\n",
    "    def __repr__(self):\n",
    "        return f'[Block #{self.index}, payload={self.payload}, ' \\\n",
    "               f'hash={self.hash()}, datetime={dt.fromtimestamp(self.timestamp)}]'\n",
    "\n",
    "    def _sha(self):\n",
    "        sha = hashlib.sha256()\n",
    "        sha.update(bytes(self.index))\n",
    "        sha.update((str(self.timestamp) + json.dumps(self.payload) +\n",
    "                    self.prev_hash).encode('utf-8'))\n",
    "        return sha\n",
    "\n",
    "    def hash(self):\n",
    "        return self._sha().hexdigest()"
   ]
  },
  {
   "cell_type": "markdown",
   "metadata": {},
   "source": [
    "\n",
    "# Blockchain"
   ]
  },
  {
   "cell_type": "code",
   "execution_count": 7,
   "metadata": {},
   "outputs": [],
   "source": [
    "class Blockchain(object):\n",
    "    def __init__(self):\n",
    "        self.index = 0\n",
    "        self.blocks = []\n",
    "        self.last_hash = ''\n",
    "\n",
    "    def __repr__(self):\n",
    "        return f'[Blockchain, height={len(self.blocks)}, ' \\\n",
    "               f'last 5 blocks={str(self.blocks[-5:])}]'\n",
    "\n",
    "    def add_block(self, payload):\n",
    "        block = Block(self.index, payload, self.last_hash)\n",
    "        self.blocks.append(block)\n",
    "        self.index += 1\n",
    "        self.last_hash = block.hash()\n",
    "        return block\n",
    "    \n",
    "    "
   ]
  },
  {
   "cell_type": "code",
   "execution_count": 43,
   "metadata": {},
   "outputs": [
    {
     "data": {
      "text/plain": [
       "[Block #0, payload=w ogóle centralnie kamieniem go bez kitu, hash=61207218a0238107ca2e5fc8f8b359587fa9a66218fc0babd73981fc9fdff313, datetime=2018-09-18 11:51:47.376633]"
      ]
     },
     "execution_count": 43,
     "metadata": {},
     "output_type": "execute_result"
    }
   ],
   "source": [
    "blockchain = Blockchain()\n",
    "blockchain.add_block('w ogóle centralnie kamieniem go bez kitu')\n"
   ]
  },
  {
   "cell_type": "markdown",
   "metadata": {},
   "source": [
    "# Dodajmy kilka bloków"
   ]
  },
  {
   "cell_type": "code",
   "execution_count": 44,
   "metadata": {},
   "outputs": [
    {
     "name": "stdout",
     "output_type": "stream",
     "text": [
      "Block added:\n",
      " \t [Block #1, payload=[0] z tobą jest jazda, hash=b716ad20f5251a932e4778bd7f2c183ab6d1aec2d262b7b4843083685fc0a77f, datetime=2018-09-18 11:51:47.376633]\n",
      "Block added:\n",
      " \t [Block #2, payload=[1] dla ciebie kawior, szampan , truskawki, hash=e30200b8aaa8752c3628f41078304a8e0b513cdbffe5b18efa76523fa2025fa6, datetime=2018-09-18 11:51:47.376633]\n",
      "Block added:\n",
      " \t [Block #3, payload=[2] i jakie tylko zechcesz zabawki, hash=1205268c18c2e2ba5d5645118d44bee972dc37024166f40021f5e7e98f641924, datetime=2018-09-18 11:51:47.376633]\n",
      "Block added:\n",
      " \t [Block #4, payload=[3] chciałbym cię porwać do swego gniazda, hash=9cbaf332eab9e57e8823ae779de50b5fd89c52ae400152f765f5ef1d91a64aa6, datetime=2018-09-18 11:51:47.376633]\n",
      "Block added:\n",
      " \t [Block #5, payload=[4] i jakie tylko zechcesz zabawki, hash=1e7204caf3a65649b9f00e49ee96131de51a17976a34e2cb3db246b859fa6cc5, datetime=2018-09-18 11:51:47.376633]\n",
      "Block added:\n",
      " \t [Block #6, payload=[5] i jakie tylko zechcesz zabawki, hash=80abeda656fb75e7b06b6328f0aed0d6421a2dcf794d90112ad3d1c0a00e9431, datetime=2018-09-18 11:51:47.376633]\n",
      "Block added:\n",
      " \t [Block #7, payload=[6] ty jesteś gwiazda, hash=19a68edd97ef2d98d32e1d9d78a053a18477ce98266e88fc2d93003a2fc7cd0c, datetime=2018-09-18 11:51:47.376633]\n",
      "Block added:\n",
      " \t [Block #8, payload=[7] chciałbym cię porwać do swego gniazda, hash=a393917a33ed10176ebd440ea91ea71f5643ea0bc4b2d384ea091b8f699dad4c, datetime=2018-09-18 11:51:47.376633]\n",
      "Block added:\n",
      " \t [Block #9, payload=[8] dla ciebie kawior, szampan , truskawki, hash=262d0cc67dff1902f4deb2be31fb8d311ef3dfe325c7ad611dea70cf7f9d1f45, datetime=2018-09-18 11:51:47.376633]\n",
      "Block added:\n",
      " \t [Block #10, payload=[9] dla ciebie kawior, szampan , truskawki, hash=3ad316b1889ec16dc95ed4c9695cbaf2ddc1521b336a50d39a137bdf81cae880, datetime=2018-09-18 11:51:47.376633]\n"
     ]
    }
   ],
   "source": [
    "for i in range(10):\n",
    "    payload = f\"[{i}] {random.choice(payloads)}\"\n",
    "    block = blockchain.add_block(payload)\n",
    "    print(f\"Block added:\\n \\t {block}\")"
   ]
  },
  {
   "cell_type": "markdown",
   "metadata": {},
   "source": [
    "# Weryfikacja spójności danych"
   ]
  },
  {
   "cell_type": "code",
   "execution_count": 45,
   "metadata": {},
   "outputs": [],
   "source": [
    "def verify(blockchain):\n",
    "    for block, prev_block in zip(blockchain.blocks[1:], blockchain.blocks):\n",
    "        if block.prev_hash != prev_block.hash():\n",
    "            print(f'!!! Blockchain verification FAILED on block #{block.index} - {block.payload} !!!')\n",
    "            break\n",
    "    else:\n",
    "        print('Blockchain verification PASSED')"
   ]
  },
  {
   "cell_type": "markdown",
   "metadata": {},
   "source": [
    "## Weryfikacja poprawnych danych"
   ]
  },
  {
   "cell_type": "code",
   "execution_count": 46,
   "metadata": {},
   "outputs": [
    {
     "name": "stdout",
     "output_type": "stream",
     "text": [
      "Blockchain verification PASSED\n"
     ]
    }
   ],
   "source": [
    "verify(blockchain)"
   ]
  },
  {
   "cell_type": "markdown",
   "metadata": {},
   "source": [
    "## Weryfikacja po drobnej zmianie w bloku"
   ]
  },
  {
   "cell_type": "code",
   "execution_count": 47,
   "metadata": {},
   "outputs": [
    {
     "name": "stdout",
     "output_type": "stream",
     "text": [
      "[2] i jakie tylko zechcesz zabawki Jam jest 444\n"
     ]
    }
   ],
   "source": [
    "blockchain.blocks[3].payload += \" Jam jest 444\"\n",
    "print(blockchain.blocks[3].payload)\n"
   ]
  },
  {
   "cell_type": "code",
   "execution_count": 86,
   "metadata": {},
   "outputs": [
    {
     "name": "stdout",
     "output_type": "stream",
     "text": [
      "!!! Blockchain verification FAILED on block #4 - [3] chciałbym cię porwać do swego gniazda !!!\n",
      "CPU times: user 421 µs, sys: 0 ns, total: 421 µs\n",
      "Wall time: 334 µs\n"
     ]
    }
   ],
   "source": [
    "%%time\n",
    "verify(blockchain)"
   ]
  },
  {
   "cell_type": "markdown",
   "metadata": {},
   "source": [
    "# Teraz na poważnie - transakcje\n"
   ]
  },
  {
   "cell_type": "markdown",
   "metadata": {},
   "source": [
    "## Definicja transakcji"
   ]
  },
  {
   "cell_type": "code",
   "execution_count": 59,
   "metadata": {},
   "outputs": [],
   "source": [
    "Transaction = namedtuple('Transaction', 'addr_from, addr_to, amount')"
   ]
  },
  {
   "cell_type": "code",
   "execution_count": 60,
   "metadata": {},
   "outputs": [],
   "source": [
    "def create_test_transactions(blockchain):\n",
    "    blockchain.add_block([Transaction('1FDHiLF1CLnFZ2BZtPakPTY2sk2M8AJkiA',\n",
    "                                  '19PcPjKGiwdcTwMibqJVRAPY9sGx4XcRAx',\n",
    "                                  1.0)])\n",
    "\n",
    "    blockchain.add_block([Transaction('12vi3T1DifT4y7tyz5TGbyFQwj2opmmaia',\n",
    "                                      '1Gdw1B4dMTZHQUzv7ggnPmZWap9pjzyn4d',\n",
    "                                      2.3), \n",
    "                          Transaction('1PTTZ2gKWBKPuC8JKtFd5sDbT4XQgEzvSL',\n",
    "                                      '12FuBeX5Ruyd4UxeCeHuAABuQ9cD2aGQKo',\n",
    "                                      10.0)])\n",
    "\n",
    "    blockchain.add_block([Transaction('19PcPjKGiwdcTwMibqJVRAPY9sGx4XcRAx',\n",
    "                                      '1FDHiLF1CLnFZ2BZtPakPTY2sk2M8AJkiA',\n",
    "                                      1.0)])\n"
   ]
  },
  {
   "cell_type": "code",
   "execution_count": 63,
   "metadata": {},
   "outputs": [
    {
     "data": {
      "text/plain": [
       "[Block #0, payload=w ogóle centralnie kamieniem go bez kitu, hash=61207218a0238107ca2e5fc8f8b359587fa9a66218fc0babd73981fc9fdff313, datetime=2018-09-18 11:51:47.376633]"
      ]
     },
     "execution_count": 63,
     "metadata": {},
     "output_type": "execute_result"
    }
   ],
   "source": [
    "serious_blockchain = Blockchain()\n",
    "serious_blockchain.add_block(\"w ogóle centralnie kamieniem go bez kitu\")"
   ]
  },
  {
   "cell_type": "code",
   "execution_count": 84,
   "metadata": {},
   "outputs": [
    {
     "name": "stdout",
     "output_type": "stream",
     "text": [
      "CPU times: user 267 µs, sys: 0 ns, total: 267 µs\n",
      "Wall time: 277 µs\n"
     ]
    }
   ],
   "source": [
    "%%time\n",
    "create_test_transactions(serious_blockchain)"
   ]
  },
  {
   "cell_type": "code",
   "execution_count": 73,
   "metadata": {},
   "outputs": [
    {
     "data": {
      "text/plain": [
       "[[Block #0, payload=w ogóle centralnie kamieniem go bez kitu, hash=61207218a0238107ca2e5fc8f8b359587fa9a66218fc0babd73981fc9fdff313, datetime=2018-09-18 11:51:47.376633],\n",
       " [Block #1, payload=[Transaction(addr_from='1FDHiLF1CLnFZ2BZtPakPTY2sk2M8AJkiA', addr_to='19PcPjKGiwdcTwMibqJVRAPY9sGx4XcRAx', amount=1.0)], hash=97c30e267644b8c8d8c12d619063cc51ab26e02026859c16f79125b4b85f0ac9, datetime=2018-09-18 11:51:47.376633],\n",
       " [Block #2, payload=[Transaction(addr_from='12vi3T1DifT4y7tyz5TGbyFQwj2opmmaia', addr_to='1Gdw1B4dMTZHQUzv7ggnPmZWap9pjzyn4d', amount=2.3), Transaction(addr_from='1PTTZ2gKWBKPuC8JKtFd5sDbT4XQgEzvSL', addr_to='12FuBeX5Ruyd4UxeCeHuAABuQ9cD2aGQKo', amount=10.0)], hash=f0db75dddd1e6eb08d8504ad1ed19eae01ce8267c87fc05b91eee15af0a4cd53, datetime=2018-09-18 11:51:47.376633],\n",
       " [Block #3, payload=[Transaction(addr_from='19PcPjKGiwdcTwMibqJVRAPY9sGx4XcRAx', addr_to='1FDHiLF1CLnFZ2BZtPakPTY2sk2M8AJkiA', amount=1.0)], hash=b5fafe06ac90cc6e8ed373b09f3c6d695b8130d12bf7449512d08c613bd7b291, datetime=2018-09-18 11:51:47.376633],\n",
       " [Block #4, payload=[Transaction(addr_from='1FDHiLF1CLnFZ2BZtPakPTY2sk2M8AJkiA', addr_to='19PcPjKGiwdcTwMibqJVRAPY9sGx4XcRAx', amount=1.0)], hash=60d22cc3c804a4cc91f9fcc2b5da9d635ca951635c70d9db0cab3626ae16cd28, datetime=2018-09-18 11:51:47.376633],\n",
       " [Block #5, payload=[Transaction(addr_from='12vi3T1DifT4y7tyz5TGbyFQwj2opmmaia', addr_to='1Gdw1B4dMTZHQUzv7ggnPmZWap9pjzyn4d', amount=2.3), Transaction(addr_from='1PTTZ2gKWBKPuC8JKtFd5sDbT4XQgEzvSL', addr_to='12FuBeX5Ruyd4UxeCeHuAABuQ9cD2aGQKo', amount=10.0)], hash=b4fc7c5e35a140bed48595d67624af671aa2513270575dcb7ed1680cf04083ac, datetime=2018-09-18 11:51:47.376633],\n",
       " [Block #6, payload=[Transaction(addr_from='19PcPjKGiwdcTwMibqJVRAPY9sGx4XcRAx', addr_to='1FDHiLF1CLnFZ2BZtPakPTY2sk2M8AJkiA', amount=1.0)], hash=129788dd2ef11a975216e4c6324dabf096da7734031dd68c2a3b372e1fab2828, datetime=2018-09-18 11:51:47.376633]]"
      ]
     },
     "execution_count": 73,
     "metadata": {},
     "output_type": "execute_result"
    }
   ],
   "source": [
    "serious_blockchain.blocks"
   ]
  },
  {
   "cell_type": "code",
   "execution_count": 74,
   "metadata": {},
   "outputs": [
    {
     "name": "stdout",
     "output_type": "stream",
     "text": [
      "Blockchain verification PASSED\n"
     ]
    }
   ],
   "source": [
    "verify(serious_blockchain)"
   ]
  },
  {
   "cell_type": "markdown",
   "metadata": {},
   "source": [
    "# Mining"
   ]
  },
  {
   "cell_type": "code",
   "execution_count": 101,
   "metadata": {},
   "outputs": [],
   "source": [
    "class Block:\n",
    "    def __init__(self, index, payload, prev_hash):\n",
    "        self.index = index\n",
    "        self.timestamp = time.time()\n",
    "        self.payload = payload\n",
    "        self.prev_hash = prev_hash\n",
    "        self.nonce = 0\n",
    "        self.difficulty = 0\n",
    "\n",
    "    def __repr__(self):\n",
    "        return f'[Block #{self.index}, payload={self.payload}, ' \\\n",
    "               f'hash={self.hash()}, nonce={self.nonce}, diff={self.difficulty}, ' \\\n",
    "               f'datetime={dt.fromtimestamp(self.timestamp)}, ' \\\n",
    "               f'prev_hash={self.prev_hash}]'\n",
    "\n",
    "    def _sha(self):\n",
    "        sha = hashlib.sha256()\n",
    "        sha.update(bytes(self.index) + bytes(self.nonce) + bytes(self.difficulty))\n",
    "        sha.update((str(self.timestamp) + json.dumps(self.payload) + \n",
    "                    self.prev_hash).encode('utf-8'))\n",
    "        return sha\n",
    "\n",
    "    def hash(self):\n",
    "        return self._sha().hexdigest()\n",
    "\n",
    "    def difficulty_matches(self):\n",
    "        print(\"sha:\", self._sha())\n",
    "        bits = ''.join(f\"{c:08b}\" for c in self._sha().digest())\n",
    "        print(\"Bits\", bits)\n",
    "        prefix = bits[:self.difficulty]\n",
    "        print(\"prefix\", bits)\n",
    "        mask = '0' * self.difficulty\n",
    "        print(\"mask\", bits)\n",
    "        return prefix == mask\n",
    "\n",
    "    def mine(self, difficulty):\n",
    "        self.difficulty = difficulty\n",
    "        while not self.difficulty_matches():\n",
    "            self.nonce += 1\n",
    "\n",
    "\n",
    "class Blockchain(object):\n",
    "    def __init__(self):\n",
    "        self.index = 0\n",
    "        self.last_hash = ''\n",
    "        self.blocks = []\n",
    "        self.difficulty = 0\n",
    "        self.add_block('The Times 03/Jan/2009 Chancellor on brink of second bailout ' \\\n",
    "                       'for banks')\n",
    "\n",
    "    def __repr__(self):\n",
    "        return f'[Blockchain, height={len(self.blocks)}, ' \\\n",
    "               f'last 5 blocks={str(self.blocks[-5:])}]'\n",
    "\n",
    "    def add_block(self, payload):\n",
    "        block = Block(self.index, payload, self.last_hash)\n",
    "        block.mine(self.difficulty)\n",
    "        self.blocks.append(block)\n",
    "        self.index += 1\n",
    "        self.last_hash = block.hash()\n",
    "        return block\n",
    "    \n",
    "    def verify(self):\n",
    "        for block, prev_block in zip(self.blocks[1:], self.blocks):\n",
    "            if block.prev_hash != prev_block.hash():\n",
    "                print(f'Verification FAILED on block #{block.index}')\n",
    "                break\n",
    "        else:\n",
    "            print('Verification PASSED')"
   ]
  },
  {
   "cell_type": "code",
   "execution_count": 78,
   "metadata": {},
   "outputs": [],
   "source": [
    "hard_blockchain = Blockchain()"
   ]
  },
  {
   "cell_type": "code",
   "execution_count": 90,
   "metadata": {},
   "outputs": [
    {
     "name": "stdout",
     "output_type": "stream",
     "text": [
      "CPU times: user 454 µs, sys: 82 µs, total: 536 µs\n",
      "Wall time: 546 µs\n"
     ]
    }
   ],
   "source": [
    "%%time\n",
    "create_test_transactions(hard_blockchain)"
   ]
  },
  {
   "cell_type": "code",
   "execution_count": 91,
   "metadata": {},
   "outputs": [
    {
     "name": "stdout",
     "output_type": "stream",
     "text": [
      "Verification PASSED\n"
     ]
    }
   ],
   "source": [
    "hard_blockchain.verify()"
   ]
  },
  {
   "cell_type": "markdown",
   "metadata": {},
   "source": [
    "## Zwiększamy poziom trudności..."
   ]
  },
  {
   "cell_type": "code",
   "execution_count": 99,
   "metadata": {},
   "outputs": [
    {
     "name": "stdout",
     "output_type": "stream",
     "text": [
      "CPU times: user 13.2 s, sys: 0 ns, total: 13.2 s\n",
      "Wall time: 13.2 s\n"
     ]
    }
   ],
   "source": [
    "%%time\n",
    "harder_blockchain = Blockchain()\n",
    "harder_blockchain.difficulty = 15  # hardcore level\n",
    "create_test_transactions(harder_blockchain)"
   ]
  },
  {
   "cell_type": "code",
   "execution_count": 100,
   "metadata": {},
   "outputs": [
    {
     "name": "stdout",
     "output_type": "stream",
     "text": [
      "Blockchain verification PASSED\n"
     ]
    }
   ],
   "source": [
    "verify(harder_blockchain)"
   ]
  },
  {
   "cell_type": "code",
   "execution_count": null,
   "metadata": {},
   "outputs": [],
   "source": []
  }
 ],
 "metadata": {
  "kernelspec": {
   "display_name": "Python 3",
   "language": "python",
   "name": "python3"
  },
  "language_info": {
   "codemirror_mode": {
    "name": "ipython",
    "version": 3
   },
   "file_extension": ".py",
   "mimetype": "text/x-python",
   "name": "python",
   "nbconvert_exporter": "python",
   "pygments_lexer": "ipython3",
   "version": "3.7.0"
  }
 },
 "nbformat": 4,
 "nbformat_minor": 2
}
