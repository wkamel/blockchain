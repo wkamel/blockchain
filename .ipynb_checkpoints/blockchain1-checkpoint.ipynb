{
 "cells": [
  {
   "cell_type": "code",
   "execution_count": 2,
   "metadata": {},
   "outputs": [],
   "source": [
    "import time\n",
    "import hashlib\n",
    "import json\n",
    "from datetime import datetime as dt\n",
    "\n",
    "class Block:\n",
    "    def __init__(self, index, payload, prev_hash):\n",
    "        self.index = index\n",
    "        self.timestamp = time.time()\n",
    "        self.payload = payload\n",
    "        self.prev_hash = prev_hash\n",
    "\n",
    "    def __repr__(self):\n",
    "        return f'[Block #{self.index}, payload={self.payload}, ' \\\n",
    "               f'hash={self.hash()}, datetime={dt.fromtimestamp(self.timestamp)}]'\n",
    "\n",
    "    def _sha(self):\n",
    "        sha = hashlib.sha256()\n",
    "        sha.update(bytes(self.index))\n",
    "        sha.update((str(self.timestamp) + json.dumps(self.payload) +\n",
    "                    self.prev_hash).encode('utf-8'))\n",
    "        return sha\n",
    "\n",
    "    def hash(self):\n",
    "        return self._sha().hexdigest()"
   ]
  },
  {
   "cell_type": "code",
   "execution_count": 2,
   "metadata": {},
   "outputs": [
    {
     "ename": "SyntaxError",
     "evalue": "invalid syntax (<ipython-input-2-995fef31cc65>, line 8)",
     "output_type": "error",
     "traceback": [
      "\u001b[0;36m  File \u001b[0;32m\"<ipython-input-2-995fef31cc65>\"\u001b[0;36m, line \u001b[0;32m8\u001b[0m\n\u001b[0;31m    return f'[Blockchain, height={len(self.blocks)}, '                f'last 5 blocks={str(self.blocks[-5:])}]'\u001b[0m\n\u001b[0m                                                     ^\u001b[0m\n\u001b[0;31mSyntaxError\u001b[0m\u001b[0;31m:\u001b[0m invalid syntax\n"
     ]
    }
   ],
   "source": [
    "class Blockchain(object):\n",
    "    def __init__(self):\n",
    "        self.index = 0\n",
    "        self.blocks = []\n",
    "        self.last_hash = ''\n",
    "\n",
    "    def __repr__(self):\n",
    "        return f'[Blockchain, height={len(self.blocks)}, ' \\\n",
    "               f'last 5 blocks={str(self.blocks[-5:])}]'\n",
    "\n",
    "    def add_block(self, payload):\n",
    "        block = Block(self.index, payload, self.last_hash)\n",
    "        self.blocks.append(block)\n",
    "        self.index += 1\n",
    "        self.last_hash = block.hash()\n",
    "        return block"
   ]
  }
 ],
 "metadata": {
  "kernelspec": {
   "display_name": "Python 3",
   "language": "python",
   "name": "python3"
  },
  "language_info": {
   "codemirror_mode": {
    "name": "ipython",
    "version": 3
   },
   "file_extension": ".py",
   "mimetype": "text/x-python",
   "name": "python",
   "nbconvert_exporter": "python",
   "pygments_lexer": "ipython3",
   "version": "3.5.2"
  }
 },
 "nbformat": 4,
 "nbformat_minor": 2
}
