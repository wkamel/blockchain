{
 "cells": [
  {
   "cell_type": "code",
   "execution_count": 2,
   "metadata": {},
   "outputs": [],
   "source": [
    "import time\n",
    "import hashlib\n",
    "import json\n",
    "from datetime import datetime as dt\n",
    "\n",
    "class Block:\n",
    "    def __init__(self, index, payload, prev_hash):\n",
    "        self.index = index\n",
    "        self.timestamp = time.time()\n",
    "        self.payload = payload\n",
    "        self.prev_hash = prev_hash\n",
    "\n",
    "    def __repr__(self):\n",
    "        return f'[Block #{self.index}, payload={self.payload}, ' \\\n",
    "               f'hash={self.hash()}, datetime={dt.fromtimestamp(self.timestamp)}]'\n",
    "\n",
    "    def _sha(self):\n",
    "        sha = hashlib.sha256()\n",
    "        sha.update(bytes(self.index))\n",
    "        sha.update((str(self.timestamp) + json.dumps(self.payload) +\n",
    "                    self.prev_hash).encode('utf-8'))\n",
    "        return sha\n",
    "\n",
    "    def hash(self):\n",
    "        return self._sha().hexdigest()"
   ]
  },
  {
   "cell_type": "code",
   "execution_count": null,
   "metadata": {},
   "outputs": [],
   "source": []
  }
 ],
 "metadata": {
  "kernelspec": {
   "display_name": "Python 3",
   "language": "python",
   "name": "python3"
  },
  "language_info": {
   "codemirror_mode": {
    "name": "ipython",
    "version": 3
   },
   "file_extension": ".py",
   "mimetype": "text/x-python",
   "name": "python",
   "nbconvert_exporter": "python",
   "pygments_lexer": "ipython3",
   "version": "3.6.0"
  }
 },
 "nbformat": 4,
 "nbformat_minor": 2
}
