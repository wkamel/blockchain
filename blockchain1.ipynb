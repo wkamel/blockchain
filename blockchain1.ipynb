{
 "cells": [
  {
   "cell_type": "code",
   "execution_count": 2,
   "metadata": {},
   "outputs": [],
   "source": [
    "import time\n",
    "import hashlib\n",
    "import json\n",
    "import random\n",
    "from pprint import pprint\n",
    "from datetime import datetime as dt\n",
    "from dataclasses import dataclass\n",
    "from collections import namedtuple\n",
    "\n",
    "\n",
    "payloads = [\n",
    "    \"ty jesteś gwiazda\",\n",
    "    \"z tobą jest jazda\",\n",
    "    \"chciałbym cię porwać do swego gniazda\",\n",
    "    \"dla ciebie kawior, szampan , truskawki\",\n",
    "    \"i jakie tylko zechcesz zabawki\"]\n",
    "\n",
    "\n",
    "\n",
    "\n",
    "\n",
    "\n",
    "\n"
   ]
  },
  {
   "cell_type": "markdown",
   "metadata": {},
   "source": [
    "# Fundament blockchain - Block"
   ]
  },
  {
   "cell_type": "code",
   "execution_count": 3,
   "metadata": {},
   "outputs": [],
   "source": [
    "\n",
    "@dataclass\n",
    "class Block:\n",
    "    index: int\n",
    "    payload: str\n",
    "    prev_hash: str    \n",
    "    timestamp = time.time()    \n",
    "\n",
    "    def __repr__(self):\n",
    "        return f'[Block #{self.index}, payload={self.payload}, ' \\\n",
    "               f'hash={self.hash()}, datetime={dt.fromtimestamp(self.timestamp)}]'\n",
    "\n",
    "    def _sha(self):\n",
    "        sha = hashlib.sha256()\n",
    "        sha.update(bytes(self.index))\n",
    "        sha.update((str(self.timestamp) + json.dumps(self.payload) +\n",
    "                    self.prev_hash).encode('utf-8'))\n",
    "        return sha\n",
    "\n",
    "    def hash(self):\n",
    "        return self._sha().hexdigest()"
   ]
  },
  {
   "cell_type": "markdown",
   "metadata": {},
   "source": [
    "\n",
    "# Blockchain"
   ]
  },
  {
   "cell_type": "code",
   "execution_count": 4,
   "metadata": {},
   "outputs": [],
   "source": [
    "class Blockchain(object):\n",
    "    def __init__(self):\n",
    "        self.index = 0\n",
    "        self.blocks = []\n",
    "        self.last_hash = ''\n",
    "\n",
    "    def __repr__(self):\n",
    "        return f'[Blockchain, height={len(self.blocks)}, ' \\\n",
    "               f'last 5 blocks={str(self.blocks[-5:])}]'\n",
    "\n",
    "    def add_block(self, payload):\n",
    "        block = Block(self.index, payload, self.last_hash)\n",
    "        self.blocks.append(block)\n",
    "        self.index += 1\n",
    "        self.last_hash = block.hash()\n",
    "        return block\n",
    "    \n",
    "    "
   ]
  },
  {
   "cell_type": "code",
   "execution_count": 5,
   "metadata": {},
   "outputs": [
    {
     "data": {
      "text/plain": [
       "[Block #0, payload=w ogóle centralnie kamieniem go bez kitu, hash=e8e94e24c485a2f3d155f3f133e0fe58b5df6a27eccce0887251dbe165795d68, datetime=2018-09-18 17:50:34.176115]"
      ]
     },
     "execution_count": 5,
     "metadata": {},
     "output_type": "execute_result"
    }
   ],
   "source": [
    "blockchain = Blockchain()\n",
    "blockchain.add_block('w ogóle centralnie kamieniem go bez kitu')\n"
   ]
  },
  {
   "cell_type": "markdown",
   "metadata": {},
   "source": [
    "# Dodajmy kilka bloków"
   ]
  },
  {
   "cell_type": "code",
   "execution_count": 6,
   "metadata": {},
   "outputs": [
    {
     "name": "stdout",
     "output_type": "stream",
     "text": [
      "Block added:\n",
      " \t [Block #1, payload=[0] z tobą jest jazda, hash=b7bf6b75c934d742cc3db4e97ae1ac21c02538213fb4ace2254468c6da0a8890, datetime=2018-09-18 17:50:34.176115]\n",
      "Block added:\n",
      " \t [Block #2, payload=[1] ty jesteś gwiazda, hash=8c11b48218defa97c273105b209d768595ed290509ff54d854e3ba10b1ecd454, datetime=2018-09-18 17:50:34.176115]\n",
      "Block added:\n",
      " \t [Block #3, payload=[2] z tobą jest jazda, hash=d29914dc2fefe504123c6cd31b9c9b0a3634c4865f0023b467fd6662072d2823, datetime=2018-09-18 17:50:34.176115]\n",
      "Block added:\n",
      " \t [Block #4, payload=[3] z tobą jest jazda, hash=f777b2b99ad9f8e8c67ad49884cccecb8ea2d26fefbbfe1a85683c2828979a7c, datetime=2018-09-18 17:50:34.176115]\n",
      "Block added:\n",
      " \t [Block #5, payload=[4] z tobą jest jazda, hash=c3d69b416e6ef1bd275bb276f139078ba8f01d189998bf40e119b41961cf885c, datetime=2018-09-18 17:50:34.176115]\n",
      "Block added:\n",
      " \t [Block #6, payload=[5] chciałbym cię porwać do swego gniazda, hash=1313c431f2203c37e89f1982d170c9e32e0f50ce341b66014d0be7108e746df4, datetime=2018-09-18 17:50:34.176115]\n",
      "Block added:\n",
      " \t [Block #7, payload=[6] i jakie tylko zechcesz zabawki, hash=7a24fbb6650499fe6204ff941a207587dd1047ddf2bfad3ef7009a2bd28ab4a7, datetime=2018-09-18 17:50:34.176115]\n",
      "Block added:\n",
      " \t [Block #8, payload=[7] i jakie tylko zechcesz zabawki, hash=067528977b92414a88a6d29c4ee94db0dc4b93ef0837ce30c17857bdc89988a8, datetime=2018-09-18 17:50:34.176115]\n",
      "Block added:\n",
      " \t [Block #9, payload=[8] chciałbym cię porwać do swego gniazda, hash=a666fbbc7213eae3463a3e94f111c005965638f4c0ec1e6e785b02ccc9a6f64e, datetime=2018-09-18 17:50:34.176115]\n",
      "Block added:\n",
      " \t [Block #10, payload=[9] ty jesteś gwiazda, hash=cabc69873e32d27afb7e4d5b2efc6f126bcaa1accffb37d6673aa8eac184b3bf, datetime=2018-09-18 17:50:34.176115]\n"
     ]
    }
   ],
   "source": [
    "for i in range(10):\n",
    "    payload = f\"[{i}] {random.choice(payloads)}\"\n",
    "    block = blockchain.add_block(payload)\n",
    "    print(f\"Block added:\\n \\t {block}\")"
   ]
  },
  {
   "cell_type": "markdown",
   "metadata": {},
   "source": [
    "# Weryfikacja spójności danych"
   ]
  },
  {
   "cell_type": "code",
   "execution_count": 8,
   "metadata": {},
   "outputs": [],
   "source": [
    "def verify(blockchain):\n",
    "    for block, prev_block in zip(blockchain.blocks[1:], blockchain.blocks):\n",
    "        if block.prev_hash != prev_block.hash():\n",
    "            print(f'!!! Blockchain verification FAILED on block #{block.index} - {block.payload} !!!')\n",
    "            break\n",
    "    else:\n",
    "        print('Blockchain verification PASSED')"
   ]
  },
  {
   "cell_type": "markdown",
   "metadata": {},
   "source": [
    "## Weryfikacja poprawnych danych"
   ]
  },
  {
   "cell_type": "code",
   "execution_count": 9,
   "metadata": {},
   "outputs": [
    {
     "name": "stdout",
     "output_type": "stream",
     "text": [
      "Blockchain verification PASSED\n"
     ]
    }
   ],
   "source": [
    "verify(blockchain)"
   ]
  },
  {
   "cell_type": "markdown",
   "metadata": {},
   "source": [
    "## Weryfikacja po drobnej zmianie w bloku"
   ]
  },
  {
   "cell_type": "code",
   "execution_count": 10,
   "metadata": {},
   "outputs": [
    {
     "name": "stdout",
     "output_type": "stream",
     "text": [
      "[2] z tobą jest jazda Jam jest 444\n"
     ]
    }
   ],
   "source": [
    "blockchain.blocks[3].payload += \" Jam jest 444\"\n",
    "print(blockchain.blocks[3].payload)\n"
   ]
  },
  {
   "cell_type": "code",
   "execution_count": 12,
   "metadata": {},
   "outputs": [
    {
     "name": "stdout",
     "output_type": "stream",
     "text": [
      "!!! Blockchain verification FAILED on block #4 - [3] z tobą jest jazda !!!\n"
     ]
    }
   ],
   "source": [
    "verify(blockchain)"
   ]
  },
  {
   "cell_type": "markdown",
   "metadata": {},
   "source": [
    "# Teraz na poważnie - transakcje\n"
   ]
  },
  {
   "cell_type": "markdown",
   "metadata": {},
   "source": [
    "## Definicja transakcji"
   ]
  },
  {
   "cell_type": "code",
   "execution_count": 13,
   "metadata": {},
   "outputs": [],
   "source": [
    "Transaction = namedtuple('Transaction', 'addr_from, addr_to, amount')"
   ]
  },
  {
   "cell_type": "code",
   "execution_count": 14,
   "metadata": {},
   "outputs": [],
   "source": [
    "def create_test_transactions(blockchain):\n",
    "    blockchain.add_block([Transaction('1FDHiLF1CLnFZ2BZtPakPTY2sk2M8AJkiA',\n",
    "                                  '19PcPjKGiwdcTwMibqJVRAPY9sGx4XcRAx',\n",
    "                                  1.0)])\n",
    "\n",
    "    blockchain.add_block([Transaction('12vi3T1DifT4y7tyz5TGbyFQwj2opmmaia',\n",
    "                                      '1Gdw1B4dMTZHQUzv7ggnPmZWap9pjzyn4d',\n",
    "                                      2.3), \n",
    "                          Transaction('1PTTZ2gKWBKPuC8JKtFd5sDbT4XQgEzvSL',\n",
    "                                      '12FuBeX5Ruyd4UxeCeHuAABuQ9cD2aGQKo',\n",
    "                                      10.0)])\n",
    "\n",
    "    blockchain.add_block([Transaction('19PcPjKGiwdcTwMibqJVRAPY9sGx4XcRAx',\n",
    "                                      '1FDHiLF1CLnFZ2BZtPakPTY2sk2M8AJkiA',\n",
    "                                      1.0)])\n"
   ]
  },
  {
   "cell_type": "code",
   "execution_count": 15,
   "metadata": {},
   "outputs": [
    {
     "data": {
      "text/plain": [
       "[Block #0, payload=w ogóle centralnie kamieniem go bez kitu, hash=e8e94e24c485a2f3d155f3f133e0fe58b5df6a27eccce0887251dbe165795d68, datetime=2018-09-18 17:50:34.176115]"
      ]
     },
     "execution_count": 15,
     "metadata": {},
     "output_type": "execute_result"
    }
   ],
   "source": [
    "serious_blockchain = Blockchain()\n",
    "serious_blockchain.add_block(\"w ogóle centralnie kamieniem go bez kitu\")"
   ]
  },
  {
   "cell_type": "code",
   "execution_count": 16,
   "metadata": {},
   "outputs": [],
   "source": [
    "create_test_transactions(serious_blockchain)"
   ]
  },
  {
   "cell_type": "code",
   "execution_count": null,
   "metadata": {},
   "outputs": [],
   "source": [
    "serious_blockchain.blocks"
   ]
  },
  {
   "cell_type": "code",
   "execution_count": null,
   "metadata": {},
   "outputs": [],
   "source": [
    "verify(serious_blockchain)"
   ]
  },
  {
   "cell_type": "markdown",
   "metadata": {},
   "source": [
    "# Mining"
   ]
  },
  {
   "cell_type": "code",
   "execution_count": null,
   "metadata": {},
   "outputs": [],
   "source": [
    "class Block:\n",
    "    def __init__(self, index, payload, prev_hash):\n",
    "        self.index = index\n",
    "        self.timestamp = time.time()\n",
    "        self.payload = payload\n",
    "        self.prev_hash = prev_hash\n",
    "        self.nonce = 0\n",
    "        self.difficulty = 0\n",
    "\n",
    "    def __repr__(self):\n",
    "        return f'[Block #{self.index}, payload={self.payload}, ' \\\n",
    "               f'hash={self.hash()}, nonce={self.nonce}, diff={self.difficulty}, ' \\\n",
    "               f'datetime={dt.fromtimestamp(self.timestamp)}, ' \\\n",
    "               f'prev_hash={self.prev_hash}]'\n",
    "\n",
    "    def _sha(self):\n",
    "        sha = hashlib.sha256()\n",
    "        sha.update(bytes(self.index) + bytes(self.nonce) + bytes(self.difficulty))\n",
    "        sha.update((str(self.timestamp) + json.dumps(self.payload) + \n",
    "                    self.prev_hash).encode('utf-8'))\n",
    "        return sha\n",
    "\n",
    "    def hash(self):\n",
    "        return self._sha().hexdigest()\n",
    "\n",
    "    def difficulty_matches(self):\n",
    "        bits = ''.join(f\"{c:08b}\" for c in self._sha().digest())\n",
    "        prefix = bits[:self.difficulty]\n",
    "        mask = '0' * self.difficulty\n",
    "        return prefix == mask\n",
    "\n",
    "    def mine(self, difficulty):\n",
    "        self.difficulty = difficulty\n",
    "        while not self.difficulty_matches():\n",
    "            print(\"nonce\", self.nonce)\n",
    "            self.nonce += 1\n",
    "\n",
    "\n",
    "class Blockchain(object):\n",
    "    def __init__(self):\n",
    "        self.index = 0\n",
    "        self.last_hash = ''\n",
    "        self.blocks = []\n",
    "        self.difficulty = 0\n",
    "        self.add_block('The Times 03/Jan/2009 Chancellor on brink of second bailout ' \\\n",
    "                       'for banks')\n",
    "\n",
    "    def __repr__(self):\n",
    "        return f'[Blockchain, height={len(self.blocks)}, ' \\\n",
    "               f'last 5 blocks={str(self.blocks[-5:])}]'\n",
    "\n",
    "    def add_block(self, payload):\n",
    "        block = Block(self.index, payload, self.last_hash)\n",
    "        block.mine(self.difficulty)\n",
    "        self.blocks.append(block)\n",
    "        self.index += 1\n",
    "        self.last_hash = block.hash()\n",
    "        return block\n",
    "    \n",
    "    def verify(self):\n",
    "        for block, prev_block in zip(self.blocks[1:], self.blocks):\n",
    "            if block.prev_hash != prev_block.hash():\n",
    "                print(f'Verification FAILED on block #{block.index}')\n",
    "                break\n",
    "        else:\n",
    "            print('Verification PASSED')"
   ]
  },
  {
   "cell_type": "code",
   "execution_count": null,
   "metadata": {},
   "outputs": [],
   "source": [
    "hard_blockchain = Blockchain()"
   ]
  },
  {
   "cell_type": "code",
   "execution_count": null,
   "metadata": {},
   "outputs": [],
   "source": [
    "%%time\n",
    "create_test_transactions(hard_blockchain)"
   ]
  },
  {
   "cell_type": "code",
   "execution_count": null,
   "metadata": {},
   "outputs": [],
   "source": [
    "hard_blockchain.verify()"
   ]
  },
  {
   "cell_type": "markdown",
   "metadata": {},
   "source": [
    "## Zwiększamy poziom trudności..."
   ]
  },
  {
   "cell_type": "code",
   "execution_count": null,
   "metadata": {},
   "outputs": [],
   "source": [
    "%%time\n",
    "much_harder_blockchain = Blockchain()\n",
    "much_harder_blockchain.difficulty = 5  # hardcore level\n",
    "create_test_transactions(much_harder_blockchain)"
   ]
  },
  {
   "cell_type": "code",
   "execution_count": null,
   "metadata": {},
   "outputs": [],
   "source": [
    "verify(much_harder_blockchain)"
   ]
  },
  {
   "cell_type": "code",
   "execution_count": null,
   "metadata": {},
   "outputs": [],
   "source": []
  }
 ],
 "metadata": {
  "kernelspec": {
   "display_name": "Python 3",
   "language": "python",
   "name": "python3"
  },
  "language_info": {
   "codemirror_mode": {
    "name": "ipython",
    "version": 3
   },
   "file_extension": ".py",
   "mimetype": "text/x-python",
   "name": "python",
   "nbconvert_exporter": "python",
   "pygments_lexer": "ipython3",
   "version": "3.7.0"
  }
 },
 "nbformat": 4,
 "nbformat_minor": 2
}
