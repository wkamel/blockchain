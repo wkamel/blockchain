{
 "cells": [
  {
   "cell_type": "code",
   "execution_count": 68,
   "metadata": {},
   "outputs": [],
   "source": [
    "import time\n",
    "import hashlib\n",
    "import json\n",
    "import random\n",
    "from pprint import pprint\n",
    "from datetime import datetime as dt\n",
    "from dataclasses import dataclass\n",
    "from collections import namedtuple\n",
    "\n",
    "\n",
    "payloads = [\n",
    "    \"ty jesteś gwiazda\",\n",
    "    \"z tobą jest jazda\",\n",
    "    \"chciałbym cię porwać do swego gniazda\",\n",
    "    \"dla ciebie kawior, szampan , truskawki\",\n",
    "    \"i jakie tylko zechcesz zabawki\"]\n",
    "\n",
    "\n",
    "\n",
    "\n",
    "\n",
    "\n",
    "\n"
   ]
  },
  {
   "cell_type": "markdown",
   "metadata": {},
   "source": [
    "# Fundament blockchain - Block"
   ]
  },
  {
   "cell_type": "code",
   "execution_count": 6,
   "metadata": {},
   "outputs": [],
   "source": [
    "\n",
    "@dataclass\n",
    "class Block:\n",
    "    index: int\n",
    "    payload: str\n",
    "    prev_hash: str    \n",
    "    timestamp = time.time()    \n",
    "\n",
    "    def __repr__(self):\n",
    "        return f'[Block #{self.index}, payload={self.payload}, ' \\\n",
    "               f'hash={self.hash()}, datetime={dt.fromtimestamp(self.timestamp)}]'\n",
    "\n",
    "    def _sha(self):\n",
    "        sha = hashlib.sha256()\n",
    "        sha.update(bytes(self.index))\n",
    "        sha.update((str(self.timestamp) + json.dumps(self.payload) +\n",
    "                    self.prev_hash).encode('utf-8'))\n",
    "        return sha\n",
    "\n",
    "    def hash(self):\n",
    "        return self._sha().hexdigest()"
   ]
  },
  {
   "cell_type": "markdown",
   "metadata": {},
   "source": [
    "\n",
    "# Blockchain"
   ]
  },
  {
   "cell_type": "code",
   "execution_count": 7,
   "metadata": {},
   "outputs": [],
   "source": [
    "class Blockchain(object):\n",
    "    def __init__(self):\n",
    "        self.index = 0\n",
    "        self.blocks = []\n",
    "        self.last_hash = ''\n",
    "\n",
    "    def __repr__(self):\n",
    "        return f'[Blockchain, height={len(self.blocks)}, ' \\\n",
    "               f'last 5 blocks={str(self.blocks[-5:])}]'\n",
    "\n",
    "    def add_block(self, payload):\n",
    "        block = Block(self.index, payload, self.last_hash)\n",
    "        self.blocks.append(block)\n",
    "        self.index += 1\n",
    "        self.last_hash = block.hash()\n",
    "        return block\n",
    "    \n",
    "    "
   ]
  },
  {
   "cell_type": "code",
   "execution_count": 43,
   "metadata": {},
   "outputs": [
    {
     "data": {
      "text/plain": [
       "[Block #0, payload=w ogóle centralnie kamieniem go bez kitu, hash=61207218a0238107ca2e5fc8f8b359587fa9a66218fc0babd73981fc9fdff313, datetime=2018-09-18 11:51:47.376633]"
      ]
     },
     "execution_count": 43,
     "metadata": {},
     "output_type": "execute_result"
    }
   ],
   "source": [
    "blockchain = Blockchain()\n",
    "blockchain.add_block('w ogóle centralnie kamieniem go bez kitu')\n"
   ]
  },
  {
   "cell_type": "markdown",
   "metadata": {},
   "source": [
    "# Dodajmy kilka bloków"
   ]
  },
  {
   "cell_type": "code",
   "execution_count": 44,
   "metadata": {},
   "outputs": [
    {
     "name": "stdout",
     "output_type": "stream",
     "text": [
      "Block added:\n",
      " \t [Block #1, payload=[0] z tobą jest jazda, hash=b716ad20f5251a932e4778bd7f2c183ab6d1aec2d262b7b4843083685fc0a77f, datetime=2018-09-18 11:51:47.376633]\n",
      "Block added:\n",
      " \t [Block #2, payload=[1] dla ciebie kawior, szampan , truskawki, hash=e30200b8aaa8752c3628f41078304a8e0b513cdbffe5b18efa76523fa2025fa6, datetime=2018-09-18 11:51:47.376633]\n",
      "Block added:\n",
      " \t [Block #3, payload=[2] i jakie tylko zechcesz zabawki, hash=1205268c18c2e2ba5d5645118d44bee972dc37024166f40021f5e7e98f641924, datetime=2018-09-18 11:51:47.376633]\n",
      "Block added:\n",
      " \t [Block #4, payload=[3] chciałbym cię porwać do swego gniazda, hash=9cbaf332eab9e57e8823ae779de50b5fd89c52ae400152f765f5ef1d91a64aa6, datetime=2018-09-18 11:51:47.376633]\n",
      "Block added:\n",
      " \t [Block #5, payload=[4] i jakie tylko zechcesz zabawki, hash=1e7204caf3a65649b9f00e49ee96131de51a17976a34e2cb3db246b859fa6cc5, datetime=2018-09-18 11:51:47.376633]\n",
      "Block added:\n",
      " \t [Block #6, payload=[5] i jakie tylko zechcesz zabawki, hash=80abeda656fb75e7b06b6328f0aed0d6421a2dcf794d90112ad3d1c0a00e9431, datetime=2018-09-18 11:51:47.376633]\n",
      "Block added:\n",
      " \t [Block #7, payload=[6] ty jesteś gwiazda, hash=19a68edd97ef2d98d32e1d9d78a053a18477ce98266e88fc2d93003a2fc7cd0c, datetime=2018-09-18 11:51:47.376633]\n",
      "Block added:\n",
      " \t [Block #8, payload=[7] chciałbym cię porwać do swego gniazda, hash=a393917a33ed10176ebd440ea91ea71f5643ea0bc4b2d384ea091b8f699dad4c, datetime=2018-09-18 11:51:47.376633]\n",
      "Block added:\n",
      " \t [Block #9, payload=[8] dla ciebie kawior, szampan , truskawki, hash=262d0cc67dff1902f4deb2be31fb8d311ef3dfe325c7ad611dea70cf7f9d1f45, datetime=2018-09-18 11:51:47.376633]\n",
      "Block added:\n",
      " \t [Block #10, payload=[9] dla ciebie kawior, szampan , truskawki, hash=3ad316b1889ec16dc95ed4c9695cbaf2ddc1521b336a50d39a137bdf81cae880, datetime=2018-09-18 11:51:47.376633]\n"
     ]
    }
   ],
   "source": [
    "for i in range(10):\n",
    "    payload = f\"[{i}] {random.choice(payloads)}\"\n",
    "    block = blockchain.add_block(payload)\n",
    "    print(f\"Block added:\\n \\t {block}\")"
   ]
  },
  {
   "cell_type": "markdown",
   "metadata": {},
   "source": [
    "# Weryfikacja spójności danych"
   ]
  },
  {
   "cell_type": "code",
   "execution_count": 45,
   "metadata": {},
   "outputs": [],
   "source": [
    "def verify(blockchain):\n",
    "    for block, prev_block in zip(blockchain.blocks[1:], blockchain.blocks):\n",
    "        if block.prev_hash != prev_block.hash():\n",
    "            print(f'!!! Blockchain verification FAILED on block #{block.index} - {block.payload} !!!')\n",
    "            break\n",
    "    else:\n",
    "        print('Blockchain verification PASSED')"
   ]
  },
  {
   "cell_type": "markdown",
   "metadata": {},
   "source": [
    "## Weryfikacja poprawnych danych"
   ]
  },
  {
   "cell_type": "code",
   "execution_count": 46,
   "metadata": {},
   "outputs": [
    {
     "name": "stdout",
     "output_type": "stream",
     "text": [
      "Blockchain verification PASSED\n"
     ]
    }
   ],
   "source": [
    "verify(blockchain)"
   ]
  },
  {
   "cell_type": "markdown",
   "metadata": {},
   "source": [
    "## Weryfikacja po drobnej zmianie w bloku"
   ]
  },
  {
   "cell_type": "code",
   "execution_count": 47,
   "metadata": {},
   "outputs": [
    {
     "name": "stdout",
     "output_type": "stream",
     "text": [
      "[2] i jakie tylko zechcesz zabawki Jam jest 444\n"
     ]
    }
   ],
   "source": [
    "blockchain.blocks[3].payload += \" Jam jest 444\"\n",
    "print(blockchain.blocks[3].payload)\n"
   ]
  },
  {
   "cell_type": "code",
   "execution_count": 86,
   "metadata": {},
   "outputs": [
    {
     "name": "stdout",
     "output_type": "stream",
     "text": [
      "!!! Blockchain verification FAILED on block #4 - [3] chciałbym cię porwać do swego gniazda !!!\n",
      "CPU times: user 421 µs, sys: 0 ns, total: 421 µs\n",
      "Wall time: 334 µs\n"
     ]
    }
   ],
   "source": [
    "%%time\n",
    "verify(blockchain)"
   ]
  },
  {
   "cell_type": "markdown",
   "metadata": {},
   "source": [
    "# Teraz na poważnie - transakcje\n"
   ]
  },
  {
   "cell_type": "markdown",
   "metadata": {},
   "source": [
    "## Definicja transakcji"
   ]
  },
  {
   "cell_type": "code",
   "execution_count": 59,
   "metadata": {},
   "outputs": [],
   "source": [
    "Transaction = namedtuple('Transaction', 'addr_from, addr_to, amount')"
   ]
  },
  {
   "cell_type": "code",
   "execution_count": 60,
   "metadata": {},
   "outputs": [],
   "source": [
    "def create_test_transactions(blockchain):\n",
    "    blockchain.add_block([Transaction('1FDHiLF1CLnFZ2BZtPakPTY2sk2M8AJkiA',\n",
    "                                  '19PcPjKGiwdcTwMibqJVRAPY9sGx4XcRAx',\n",
    "                                  1.0)])\n",
    "\n",
    "    blockchain.add_block([Transaction('12vi3T1DifT4y7tyz5TGbyFQwj2opmmaia',\n",
    "                                      '1Gdw1B4dMTZHQUzv7ggnPmZWap9pjzyn4d',\n",
    "                                      2.3), \n",
    "                          Transaction('1PTTZ2gKWBKPuC8JKtFd5sDbT4XQgEzvSL',\n",
    "                                      '12FuBeX5Ruyd4UxeCeHuAABuQ9cD2aGQKo',\n",
    "                                      10.0)])\n",
    "\n",
    "    blockchain.add_block([Transaction('19PcPjKGiwdcTwMibqJVRAPY9sGx4XcRAx',\n",
    "                                      '1FDHiLF1CLnFZ2BZtPakPTY2sk2M8AJkiA',\n",
    "                                      1.0)])\n"
   ]
  },
  {
   "cell_type": "code",
   "execution_count": 63,
   "metadata": {},
   "outputs": [
    {
     "data": {
      "text/plain": [
       "[Block #0, payload=w ogóle centralnie kamieniem go bez kitu, hash=61207218a0238107ca2e5fc8f8b359587fa9a66218fc0babd73981fc9fdff313, datetime=2018-09-18 11:51:47.376633]"
      ]
     },
     "execution_count": 63,
     "metadata": {},
     "output_type": "execute_result"
    }
   ],
   "source": [
    "serious_blockchain = Blockchain()\n",
    "serious_blockchain.add_block(\"w ogóle centralnie kamieniem go bez kitu\")"
   ]
  },
  {
   "cell_type": "code",
   "execution_count": 84,
   "metadata": {},
   "outputs": [
    {
     "name": "stdout",
     "output_type": "stream",
     "text": [
      "CPU times: user 267 µs, sys: 0 ns, total: 267 µs\n",
      "Wall time: 277 µs\n"
     ]
    }
   ],
   "source": [
    "%%time\n",
    "create_test_transactions(serious_blockchain)"
   ]
  },
  {
   "cell_type": "code",
   "execution_count": 73,
   "metadata": {},
   "outputs": [
    {
     "data": {
      "text/plain": [
       "[[Block #0, payload=w ogóle centralnie kamieniem go bez kitu, hash=61207218a0238107ca2e5fc8f8b359587fa9a66218fc0babd73981fc9fdff313, datetime=2018-09-18 11:51:47.376633],\n",
       " [Block #1, payload=[Transaction(addr_from='1FDHiLF1CLnFZ2BZtPakPTY2sk2M8AJkiA', addr_to='19PcPjKGiwdcTwMibqJVRAPY9sGx4XcRAx', amount=1.0)], hash=97c30e267644b8c8d8c12d619063cc51ab26e02026859c16f79125b4b85f0ac9, datetime=2018-09-18 11:51:47.376633],\n",
       " [Block #2, payload=[Transaction(addr_from='12vi3T1DifT4y7tyz5TGbyFQwj2opmmaia', addr_to='1Gdw1B4dMTZHQUzv7ggnPmZWap9pjzyn4d', amount=2.3), Transaction(addr_from='1PTTZ2gKWBKPuC8JKtFd5sDbT4XQgEzvSL', addr_to='12FuBeX5Ruyd4UxeCeHuAABuQ9cD2aGQKo', amount=10.0)], hash=f0db75dddd1e6eb08d8504ad1ed19eae01ce8267c87fc05b91eee15af0a4cd53, datetime=2018-09-18 11:51:47.376633],\n",
       " [Block #3, payload=[Transaction(addr_from='19PcPjKGiwdcTwMibqJVRAPY9sGx4XcRAx', addr_to='1FDHiLF1CLnFZ2BZtPakPTY2sk2M8AJkiA', amount=1.0)], hash=b5fafe06ac90cc6e8ed373b09f3c6d695b8130d12bf7449512d08c613bd7b291, datetime=2018-09-18 11:51:47.376633],\n",
       " [Block #4, payload=[Transaction(addr_from='1FDHiLF1CLnFZ2BZtPakPTY2sk2M8AJkiA', addr_to='19PcPjKGiwdcTwMibqJVRAPY9sGx4XcRAx', amount=1.0)], hash=60d22cc3c804a4cc91f9fcc2b5da9d635ca951635c70d9db0cab3626ae16cd28, datetime=2018-09-18 11:51:47.376633],\n",
       " [Block #5, payload=[Transaction(addr_from='12vi3T1DifT4y7tyz5TGbyFQwj2opmmaia', addr_to='1Gdw1B4dMTZHQUzv7ggnPmZWap9pjzyn4d', amount=2.3), Transaction(addr_from='1PTTZ2gKWBKPuC8JKtFd5sDbT4XQgEzvSL', addr_to='12FuBeX5Ruyd4UxeCeHuAABuQ9cD2aGQKo', amount=10.0)], hash=b4fc7c5e35a140bed48595d67624af671aa2513270575dcb7ed1680cf04083ac, datetime=2018-09-18 11:51:47.376633],\n",
       " [Block #6, payload=[Transaction(addr_from='19PcPjKGiwdcTwMibqJVRAPY9sGx4XcRAx', addr_to='1FDHiLF1CLnFZ2BZtPakPTY2sk2M8AJkiA', amount=1.0)], hash=129788dd2ef11a975216e4c6324dabf096da7734031dd68c2a3b372e1fab2828, datetime=2018-09-18 11:51:47.376633]]"
      ]
     },
     "execution_count": 73,
     "metadata": {},
     "output_type": "execute_result"
    }
   ],
   "source": [
    "serious_blockchain.blocks"
   ]
  },
  {
   "cell_type": "code",
   "execution_count": 74,
   "metadata": {},
   "outputs": [
    {
     "name": "stdout",
     "output_type": "stream",
     "text": [
      "Blockchain verification PASSED\n"
     ]
    }
   ],
   "source": [
    "verify(serious_blockchain)"
   ]
  },
  {
   "cell_type": "markdown",
   "metadata": {},
   "source": [
    "# Mining"
   ]
  },
  {
   "cell_type": "code",
   "execution_count": 142,
   "metadata": {},
   "outputs": [],
   "source": [
    "class Block:\n",
    "    def __init__(self, index, payload, prev_hash):\n",
    "        self.index = index\n",
    "        self.timestamp = time.time()\n",
    "        self.payload = payload\n",
    "        self.prev_hash = prev_hash\n",
    "        self.nonce = 0\n",
    "        self.difficulty = 0\n",
    "\n",
    "    def __repr__(self):\n",
    "        return f'[Block #{self.index}, payload={self.payload}, ' \\\n",
    "               f'hash={self.hash()}, nonce={self.nonce}, diff={self.difficulty}, ' \\\n",
    "               f'datetime={dt.fromtimestamp(self.timestamp)}, ' \\\n",
    "               f'prev_hash={self.prev_hash}]'\n",
    "\n",
    "    def _sha(self):\n",
    "        sha = hashlib.sha256()\n",
    "        sha.update(bytes(self.index) + bytes(self.nonce) + bytes(self.difficulty))\n",
    "        sha.update((str(self.timestamp) + json.dumps(self.payload) + \n",
    "                    self.prev_hash).encode('utf-8'))\n",
    "        return sha\n",
    "\n",
    "    def hash(self):\n",
    "        return self._sha().hexdigest()\n",
    "\n",
    "    def difficulty_matches(self):\n",
    "        print(\"sha:\", self._sha().digest())\n",
    "        bits = ''.join(f\"{c:08b}\" for c in self._sha().digest())\n",
    "        print(\"Bits\", bits)\n",
    "        prefix = bits[:self.difficulty]\n",
    "        print(\"prefix\", prefix)\n",
    "        mask = '0' * self.difficulty\n",
    "        print(f\"mask: {mask}\")\n",
    "        return prefix == mask\n",
    "\n",
    "    def mine(self, difficulty):\n",
    "        self.difficulty = difficulty\n",
    "        while not self.difficulty_matches():\n",
    "            print(\"nonce\", self.nonce)\n",
    "            self.nonce += 1\n",
    "\n",
    "\n",
    "class Blockchain(object):\n",
    "    def __init__(self):\n",
    "        self.index = 0\n",
    "        self.last_hash = ''\n",
    "        self.blocks = []\n",
    "        self.difficulty = 0\n",
    "        self.add_block('The Times 03/Jan/2009 Chancellor on brink of second bailout ' \\\n",
    "                       'for banks')\n",
    "\n",
    "    def __repr__(self):\n",
    "        return f'[Blockchain, height={len(self.blocks)}, ' \\\n",
    "               f'last 5 blocks={str(self.blocks[-5:])}]'\n",
    "\n",
    "    def add_block(self, payload):\n",
    "        block = Block(self.index, payload, self.last_hash)\n",
    "        block.mine(self.difficulty)\n",
    "        self.blocks.append(block)\n",
    "        self.index += 1\n",
    "        self.last_hash = block.hash()\n",
    "        return block\n",
    "    \n",
    "    def verify(self):\n",
    "        for block, prev_block in zip(self.blocks[1:], self.blocks):\n",
    "            if block.prev_hash != prev_block.hash():\n",
    "                print(f'Verification FAILED on block #{block.index}')\n",
    "                break\n",
    "        else:\n",
    "            print('Verification PASSED')"
   ]
  },
  {
   "cell_type": "code",
   "execution_count": 143,
   "metadata": {},
   "outputs": [
    {
     "name": "stdout",
     "output_type": "stream",
     "text": [
      "sha: b'\\xc2\\xb5u\\xe9g\\x07\\xd3\\xd9{\\xac\\tS\\x97\\n\".<\\x08\\xe6He\\xc1\\x11\\xd2m\\xd6\\xf37\\x9e\\xb3IW'\n",
      "Bits 1100001010110101011101011110100101100111000001111101001111011001011110111010110000001001010100111001011100001010001000100010111000111100000010001110011001001000011001011100000100010001110100100110110111010110111100110011011110011110101100110100100101010111\n",
      "prefix \n",
      "mask: \n"
     ]
    }
   ],
   "source": [
    "hard_blockchain = Blockchain()"
   ]
  },
  {
   "cell_type": "code",
   "execution_count": 144,
   "metadata": {},
   "outputs": [
    {
     "name": "stdout",
     "output_type": "stream",
     "text": [
      "sha: b'\\x0el;gwI\\xc3t\\xb5\\xb3\\x10\\xc2\\xc6\\x8f9Jb\\x97\\x94\\xe3\\x00.\\x04\\x1a\\xcd\\x1d\\xb3\\xbbS*\\xc6`'\n",
      "Bits 0000111001101100001110110110011101110111010010011100001101110100101101011011001100010000110000101100011010001111001110010100101001100010100101111001010011100011000000000010111000000100000110101100110100011101101100111011101101010011001010101100011001100000\n",
      "prefix \n",
      "mask: \n",
      "sha: b\"/\\xfdC\\x8a-\\xd7\\x96\\xe0\\x95\\n\\x99\\x9c\\x1c\\xae\\xcd\\xca\\x1efWg\\x82\\xe9aw\\x96\\x97\\xad\\x99\\xf5\\xd4B'\"\n",
      "Bits 0010111111111101010000111000101000101101110101111001011011100000100101010000101010011001100111000001110010101110110011011100101000011110011001100101011101100111100000101110100101100001011101111001011010010111101011011001100111110101110101000100001000100111\n",
      "prefix \n",
      "mask: \n",
      "sha: b'I\\xe7\\xa3\\xbb\\x18\\xa8\\xeb\\xf5\\x92\\x1b\\xde<\\xfb\\xe7\\xe9l\\xfd\\x1a\\xa4\\xb1\\x08\\xc4J\\xfc\\x9c\\xd1\\xf1PiW\\xe7/'\n",
      "Bits 0100100111100111101000111011101100011000101010001110101111110101100100100001101111011110001111001111101111100111111010010110110011111101000110101010010010110001000010001100010001001010111111001001110011010001111100010101000001101001010101111110011100101111\n",
      "prefix \n",
      "mask: \n",
      "CPU times: user 4.19 ms, sys: 4 µs, total: 4.2 ms\n",
      "Wall time: 3 ms\n"
     ]
    }
   ],
   "source": [
    "%%time\n",
    "create_test_transactions(hard_blockchain)"
   ]
  },
  {
   "cell_type": "code",
   "execution_count": 145,
   "metadata": {},
   "outputs": [
    {
     "name": "stdout",
     "output_type": "stream",
     "text": [
      "Verification PASSED\n"
     ]
    }
   ],
   "source": [
    "hard_blockchain.verify()"
   ]
  },
  {
   "cell_type": "markdown",
   "metadata": {},
   "source": [
    "## Zwiększamy poziom trudności..."
   ]
  },
  {
   "cell_type": "code",
   "execution_count": 146,
   "metadata": {},
   "outputs": [
    {
     "name": "stdout",
     "output_type": "stream",
     "text": [
      "sha: b'\\xd2e\\xd3\\x8f(\\xeb\\xd6\\x98\\tK\\xb7\\x99\\xb4\\x8c(\\xbe|\\x91i\\x13W\\xc4\\x11\\xb8\\x0ck\\x16\\x03\\x82\\xe0]\\xcd'\n",
      "Bits 1101001001100101110100111000111100101000111010111101011010011000000010010100101110110111100110011011010010001100001010001011111001111100100100010110100100010011010101111100010000010001101110000000110001101011000101100000001110000010111000000101110111001101\n",
      "prefix \n",
      "mask: \n",
      "sha: b'\\x86\\xf0\\xb4\\\\\\x1f\\x8b\\xa6\\xda\\x02w\\r}\\xd6\\xc1\\x17d\\x0c\\x9c\\x8e\\xe1\\xd2\\xbf(\\xe3\\xf0\\x07f\\xb4f\\x96;\\xbf'\n",
      "Bits 1000011011110000101101000101110000011111100010111010011011011010000000100111011100001101011111011101011011000001000101110110010000001100100111001000111011100001110100101011111100101000111000111111000000000111011001101011010001100110100101100011101110111111\n",
      "prefix 10000\n",
      "mask: 00000\n",
      "nonce 0\n",
      "sha: b\"\\xc2\\xee|I\\xe12\\xaf)\\x89\\x84\\xc6\\x15\\r\\xaa.\\xac\\xef]\\x8e\\xbd\\xfe5\\x05\\x82_\\xb5\\x964'\\x0fj\\xac\"\n",
      "Bits 1100001011101110011111000100100111100001001100101010111100101001100010011000010011000110000101010000110110101010001011101010110011101111010111011000111010111101111111100011010100000101100000100101111110110101100101100011010000100111000011110110101010101100\n",
      "prefix 11000\n",
      "mask: 00000\n",
      "nonce 1\n",
      "sha: b'\\x19>\\x9ai\\x03\\xb3Q\\x82\\xa4.\\xbe\\xbb\\xee.\\xf6\\x8a\\xeb\\x84\\xfd%?\\x92\\xf9\\x0c,\\xc3\\x98\\x83\\x11\\\\h\\xee'\n",
      "Bits 0001100100111110100110100110100100000011101100110101000110000010101001000010111010111110101110111110111000101110111101101000101011101011100001001111110100100101001111111001001011111001000011000010110011000011100110001000001100010001010111000110100011101110\n",
      "prefix 00011\n",
      "mask: 00000\n",
      "nonce 2\n",
      "sha: b'/y]\\n\\xfc\\xc7BW\\xd8\\xe0l5\\xaf\\xcf\\xcc,\\x97\\xcc\\xd1\\xb9\\xfb=]U\\x88\\x07\"d\\xae Z\\xc0'\n",
      "Bits 0010111101111001010111010000101011111100110001110100001001010111110110001110000001101100001101011010111111001111110011000010110010010111110011001101000110111001111110110011110101011101010101011000100000000111001000100110010010101110001000000101101011000000\n",
      "prefix 00101\n",
      "mask: 00000\n",
      "nonce 3\n",
      "sha: b'\\x04M\\x82h_x\\x1e\\xa0\\x1a(N\\xacWZ\\xd6\\x16\\x04\\xc0~\\xa7\\x90f\\xee\\xe6\\x1dv\\x90\\xf7\\x96\\x8b\\x95\\xd7'\n",
      "Bits 0000010001001101100000100110100001011111011110000001111010100000000110100010100001001110101011000101011101011010110101100001011000000100110000000111111010100111100100000110011011101110111001100001110101110110100100001111011110010110100010111001010111010111\n",
      "prefix 00000\n",
      "mask: 00000\n",
      "sha: b'\\x0c\\xeb~z\\xe1F\\xc3@\\xf3\\xb3\\xaa+s\\x9f\\xf2`\\xeb3\\xca\\xb5\\x17\\xe5\\xa9\\xd4\\xdb\\x05\\x15\\xa2\\xae!P&'\n",
      "Bits 0000110011101011011111100111101011100001010001101100001101000000111100111011001110101010001010110111001110011111111100100110000011101011001100111100101010110101000101111110010110101001110101001101101100000101000101011010001010101110001000010101000000100110\n",
      "prefix 00001\n",
      "mask: 00000\n",
      "nonce 0\n",
      "sha: b' \\x119\\xb0\\xca\\xdc\\x9b\\xeb\\xad$7\\xcf\\xc4\\xa0\\xef\\xdei\\x12\\x89\\xff\\xa4\\xe1\\xf4\\xce\\x8diT\\x9aR\\x90\\xd8\\xd1'\n",
      "Bits 0010000000010001001110011011000011001010110111001001101111101011101011010010010000110111110011111100010010100000111011111101111001101001000100101000100111111111101001001110000111110100110011101000110101101001010101001001101001010010100100001101100011010001\n",
      "prefix 00100\n",
      "mask: 00000\n",
      "nonce 1\n",
      "sha: b\"k\\x8dw\\n}\\xfc\\x94\\x9a]\\nF\\x81\\xd5\\xd2\\xf0\\xbfL\\xe4\\xb5\\xaf\\x8c']5u\\x81O\\x8cz\\xadbY\"\n",
      "Bits 0110101110001101011101110000101001111101111111001001010010011010010111010000101001000110100000011101010111010010111100001011111101001100111001001011010110101111100011000010011101011101001101010111010110000001010011111000110001111010101011010110001001011001\n",
      "prefix 01101\n",
      "mask: 00000\n",
      "nonce 2\n",
      "sha: b'\\xf5\\xf5\"GDl\\xc8\\xa3\\x0ej\\x92\\x19\\x18#3\\xc3\\x9f\\x9f4X\\x9c.\\xbfk\\x9f&Wr\\xb4\\x7f\\xef\\xc5'\n",
      "Bits 1111010111110101001000100100011101000100011011001100100010100011000011100110101010010010000110010001100000100011001100111100001110011111100111110011010001011000100111000010111010111111011010111001111100100110010101110111001010110100011111111110111111000101\n",
      "prefix 11110\n",
      "mask: 00000\n",
      "nonce 3\n",
      "sha: b'\\xed\\xd29\\xb7\\x07\\x83&\\x1d\\x9f\\n\\xdf<;\\x82[\\x96\\xbf\\x86\\xcbkp\\x88\\xf9\\xdfUeW\\x0f\\x15\\xa7&Y'\n",
      "Bits 1110110111010010001110011011011100000111100000110010011000011101100111110000101011011111001111000011101110000010010110111001011010111111100001101100101101101011011100001000100011111001110111110101010101100101010101110000111100010101101001110010011001011001\n",
      "prefix 11101\n",
      "mask: 00000\n",
      "nonce 4\n",
      "sha: b'\\x1c\\x13\\tT\\x07\\xb6\\xfc\\xaf\\xa5\\xdf\\xe5\\xb1>\\xa1]\\x81\\xc8\\n2\\xd1\\\\2#E\\x9e\\xd4\\xde#\\x8bQ\\xaf8'\n",
      "Bits 0001110000010011000010010101010000000111101101101111110010101111101001011101111111100101101100010011111010100001010111011000000111001000000010100011001011010001010111000011001000100011010001011001111011010100110111100010001110001011010100011010111100111000\n",
      "prefix 00011\n",
      "mask: 00000\n",
      "nonce 5\n",
      "sha: b\"\\x03\\xec\\x01\\xc2'~\\x93\\xfb(\\xbfOR\\xe3\\x18\\xb1.\\xedK\\xd2:,\\xe9&\\xee*\\xde\\xfd\\xce7\\xa9\\xb1;\"\n",
      "Bits 0000001111101100000000011100001000100111011111101001001111111011001010001011111101001111010100101110001100011000101100010010111011101101010010111101001000111010001011001110100100100110111011100010101011011110111111011100111000110111101010011011000100111011\n",
      "prefix 00000\n",
      "mask: 00000\n",
      "sha: b'\\x92\\xa2]%\\xf3v}A\\xc1\\xaf\\r\\xe8\\xe6\\xc9g\\xb5\\xf3\\xf8\\xa7\\xc4G|~\\xd6h\\x1c\\xde\\xc3u\\xbeh}'\n",
      "Bits 1001001010100010010111010010010111110011011101100111110101000001110000011010111100001101111010001110011011001001011001111011010111110011111110001010011111000100010001110111110001111110110101100110100000011100110111101100001101110101101111100110100001111101\n",
      "prefix 10010\n",
      "mask: 00000\n",
      "nonce 0\n",
      "sha: b'\\x81\\xe6\\xf0y\\x9b\\x80\\xde\\xb1\\xac\"C{\\x85w.1\\xc1\\'\\x0e\\xb0\\xb2%;=\\xcc\\x92\\xf3T\\xcf?\\x02\\''\n",
      "Bits 1000000111100110111100000111100110011011100000001101111010110001101011000010001001000011011110111000010101110111001011100011000111000001001001110000111010110000101100100010010100111011001111011100110010010010111100110101010011001111001111110000001000100111\n",
      "prefix 10000\n",
      "mask: 00000\n",
      "nonce 1\n",
      "sha: b'\\x88!\\xb1\\xc6\\xf9\\xbf\\xd4\\x16\\x9c\\x10l\\xe4\\xbd\\xdfn\\xa1\\xe1\\xeeY%\\xffo\\x1e\\xd5\\xef\\xc4q\\xb1\\xa8 \\xc9\\xf3'\n",
      "Bits 1000100000100001101100011100011011111001101111111101010000010110100111000001000001101100111001001011110111011111011011101010000111100001111011100101100100100101111111110110111100011110110101011110111111000100011100011011000110101000001000001100100111110011\n",
      "prefix 10001\n",
      "mask: 00000\n",
      "nonce 2\n",
      "sha: b\"\\xefG.j\\x0fd\\xf4yB\\xfa\\x8c\\x9b\\xe1p\\xecP\\xdf$\\xdb:A_{/=\\xc7v\\x01'\\x9du\\x01\"\n",
      "Bits 1110111101000111001011100110101000001111011001001111010001111001010000101111101010001100100110111110000101110000111011000101000011011111001001001101101100111010010000010101111101111011001011110011110111000111011101100000000100100111100111010111010100000001\n",
      "prefix 11101\n",
      "mask: 00000\n",
      "nonce 3\n",
      "sha: b'0V\\t\\x18\\x08\\x9ant\\xc7\\xcd\\xe0\\xa9~r\\x175U@8\\xee\\xeaIH\\x1a\\xd2\\xc1\\xf4-WcM\\x9c'\n",
      "Bits 0011000001010110000010010001100000001000100110100110111001110100110001111100110111100000101010010111111001110010000101110011010101010101010000000011100011101110111010100100100101001000000110101101001011000001111101000010110101010111011000110100110110011100\n",
      "prefix 00110\n",
      "mask: 00000\n",
      "nonce 4\n",
      "sha: b'l\\xa4\\x06,|\\xa2O&\\xc8^ZG\\x98\\xdd\\x8a\\x91\\x1a=\\xff\\x8fM\\xa6\\xec\\xa3$\\xe6\\xb1Fy\\x0f4\\x80'\n",
      "Bits 0110110010100100000001100010110001111100101000100100111100100110110010000101111001011010010001111001100011011101100010101001000100011010001111011111111110001111010011011010011011101100101000110010010011100110101100010100011001111001000011110011010010000000\n",
      "prefix 01101\n",
      "mask: 00000\n",
      "nonce 5\n",
      "sha: b'\\xb6\\xb4\\x96=2\\xe7\\x00\\xc2\\xecN[\\xb7\\x0f\\x88L\\x19d\\xa0k\\xd8v\\x94H\\xbd]\\xbc\\x05\\x99\\xbd\\xa4\\x0bg'\n",
      "Bits 1011011010110100100101100011110100110010111001110000000011000010111011000100111001011011101101110000111110001000010011000001100101100100101000000110101111011000011101101001010001001000101111010101110110111100000001011001100110111101101001000000101101100111\n",
      "prefix 10110\n",
      "mask: 00000\n",
      "nonce 6\n",
      "sha: b'\\x9b\\x8e\\x82 %W\\x89]N\\x9a3\\xb1\\xaa\\xae\\xa7\\xbe\\xb6J\\x95\\xf3\\xd5g\\x98i\\x1f\\x8a}X\\xd2\\x04*Y'\n",
      "Bits 1001101110001110100000100010000000100101010101111000100101011101010011101001101000110011101100011010101010101110101001111011111010110110010010101001010111110011110101010110011110011000011010010001111110001010011111010101100011010010000001000010101001011001\n",
      "prefix 10011\n",
      "mask: 00000\n",
      "nonce 7\n",
      "sha: b'x\\x0f\\xdfp5\\x9e\\x06\\xdf\\xab=;\\xb5\\x1b\\xe1nS\\xb3\\xf6\\r\\x95\\x8e\\xe0\\xedb\\x89\\xc8\\xb1\\xf1\\xee\\x16\\xd8\\xb4'\n",
      "Bits 0111100000001111110111110111000000110101100111100000011011011111101010110011110100111011101101010001101111100001011011100101001110110011111101100000110110010101100011101110000011101101011000101000100111001000101100011111000111101110000101101101100010110100\n",
      "prefix 01111\n",
      "mask: 00000\n",
      "nonce 8\n",
      "sha: b'\\x16\\xee\\xdd\\x86\\x1bha\\xad\\xc8\\x8d\\x9a\\xb9\\xf2&K\\x96\\xcb\\x83\\xcf\\x14V\\xc2]h\\x921{\\x99\\xab\\xc0\\xbaS'\n",
      "Bits 0001011011101110110111011000011000011011011010000110000110101101110010001000110110011010101110011111001000100110010010111001011011001011100000111100111100010100010101101100001001011101011010001001001000110001011110111001100110101011110000001011101001010011\n",
      "prefix 00010\n",
      "mask: 00000\n",
      "nonce 9\n",
      "sha: b'\\xc0m<B{)\\xc5\\x05\\xe8J\\x0b\\n>p\\xcb?\\xc13\\x03SX\\xabZ)\\x16\\x95\\xd0\\xe1\\xb6(\\xf8O'\n",
      "Bits 1100000001101101001111000100001001111011001010011100010100000101111010000100101000001011000010100011111001110000110010110011111111000001001100110000001101010011010110001010101101011010001010010001011010010101110100001110000110110110001010001111100001001111\n",
      "prefix 11000\n",
      "mask: 00000\n",
      "nonce 10\n",
      "sha: b'\\x9d\\xc8\\x11\\x065\\x98l\\xb6\\xdf\\xdd\\x90(W\\xdeNF\\x87_\\x87\\xd8\\xd5u>3y7;\\x1cN*\\xc0\\x01'\n",
      "Bits 1001110111001000000100010000011000110101100110000110110010110110110111111101110110010000001010000101011111011110010011100100011010000111010111111000011111011000110101010111010100111110001100110111100100110111001110110001110001001110001010101100000000000001\n",
      "prefix 10011\n",
      "mask: 00000\n",
      "nonce 11\n",
      "sha: b\"\\xfc'\\xb96\\xd1\\xd5\\xb0\\xed\\xfd\\xe8dZ<\\xd4c\\xf4g\\x1e\\xf5\\xa6\\xeemR\\xca\\xf2\\xa7\\xc8S\\xaf\\xe1\\x94\\xb8\"\n",
      "Bits 1111110000100111101110010011011011010001110101011011000011101101111111011110100001100100010110100011110011010100011000111111010001100111000111101111010110100110111011100110110101010010110010101111001010100111110010000101001110101111111000011001010010111000\n",
      "prefix 11111\n",
      "mask: 00000\n",
      "nonce 12\n",
      "sha: b\"%a.~+\\x8b\\xa6\\n\\xaa\\x8c`\\xe0\\xee'f\\\\@8\\xdf\\x830\\x01p\\xf8\\xf0\\x98\\xb3\\xf6\\x11\\xf6\\xa42\"\n",
      "Bits 0010010101100001001011100111111000101011100010111010011000001010101010101000110001100000111000001110111000100111011001100101110001000000001110001101111110000011001100000000000101110000111110001111000010011000101100111111011000010001111101101010010000110010\n",
      "prefix 00100\n",
      "mask: 00000\n",
      "nonce 13\n",
      "sha: b'H$t\\xe6\\x1b\\x1a\\xff$9\\x08\\x1c@\\x13<\\x0c\\xdd5\\xa035W4w\\x9d\"\\x89{\\xb5\\xc5\\xb9\\xd0\\x02'\n",
      "Bits 0100100000100100011101001110011000011011000110101111111100100100001110010000100000011100010000000001001100111100000011001101110100110101101000000011001100110101010101110011010001110111100111010010001010001001011110111011010111000101101110011101000000000010\n",
      "prefix 01001\n",
      "mask: 00000\n",
      "nonce 14\n",
      "sha: b'\\xea\\xafIXX\\xb6Te\\x06/$\\xd8\\xca\\x03\\x1f\\xd9w*P\\x9bQ\\xe0\\x92hn>\\x8e\\xe7L\\xb4\\xc8\\xd4'\n",
      "Bits 1110101010101111010010010101100001011000101101100101010001100101000001100010111100100100110110001100101000000011000111111101100101110111001010100101000010011011010100011110000010010010011010000110111000111110100011101110011101001100101101001100100011010100\n",
      "prefix 11101\n",
      "mask: 00000\n",
      "nonce 15\n",
      "sha: b'\\nFdK\\x118\\xff\\xf9\\xf0\\xc2\\xc9\\xfb6\\xe9\\x91\\xd3^,\\xeaM{a\\xb3\\x8a%1\\x7fU\\x82\\xecK\\x9d'\n",
      "Bits 0000101001000110011001000100101100010001001110001111111111111001111100001100001011001001111110110011011011101001100100011101001101011110001011001110101001001101011110110110000110110011100010100010010100110001011111110101010110000010111011000100101110011101\n",
      "prefix 00001\n",
      "mask: 00000\n",
      "nonce 16\n",
      "sha: b'+\\xa0\\xba\\xec\\xd0}\\x81~\\xf4\\xd6Z\\xad\\xd7\\xda9\\xab{z\\x8a\\xedB\\x18\\x9d:\\xab\\x86SS\\x07\\xdc\\x08}'\n",
      "Bits 0010101110100000101110101110110011010000011111011000000101111110111101001101011001011010101011011101011111011010001110011010101101111011011110101000101011101101010000100001100010011101001110101010101110000110010100110101001100000111110111000000100001111101\n",
      "prefix 00101\n",
      "mask: 00000\n",
      "nonce 17\n",
      "sha: b'k\\x820\\x12(\\x80\\xb5\\xdd\\xc2y7[E\\xbe\\x19J%\\xd4\\xd2.\\xef\\x9f\\xf4K\\xbc\\xccF\\xb2[\\xc0\\xc0f'\n",
      "Bits 0110101110000010001100000001001000101000100000001011010111011101110000100111100100110111010110110100010110111110000110010100101000100101110101001101001000101110111011111001111111110100010010111011110011001100010001101011001001011011110000001100000001100110\n",
      "prefix 01101\n",
      "mask: 00000\n",
      "nonce 18\n",
      "sha: b'y\\x857FC\\xdf\\n\\xf39\\xaag\\x1cX\\xa9a\\xda\\x1d\\x05;Pu\\x8b\\x9a\\x93S_\\xf9\\xcd\\x1c\\x94\\xf7\\xc8'\n",
      "Bits 0111100110000101001101110100011001000011110111110000101011110011001110011010101001100111000111000101100010101001011000011101101000011101000001010011101101010000011101011000101110011010100100110101001101011111111110011100110100011100100101001111011111001000\n",
      "prefix 01111\n",
      "mask: 00000\n",
      "nonce 19\n",
      "sha: b'\\x84\\xf4\\xae\\xba\\x08\\xe4\\xe5!\\xd0\\xa7\\x10\\xdd\\x0bh?2pt2e\\xe8\\x08\\xfc\\x90K\\xb3\\x98?z\\xe05\\xb5'\n",
      "Bits 1000010011110100101011101011101000001000111001001110010100100001110100001010011100010000110111010000101101101000001111110011001001110000011101000011001001100101111010000000100011111100100100000100101110110011100110000011111101111010111000000011010110110101\n",
      "prefix 10000\n",
      "mask: 00000\n",
      "nonce 20\n",
      "sha: b'\\r>\\x95?\\xca \\x91\\xd04\\x8e0_\\xd9\\xd4\\x16\\xcam\\x9d\\x9f\\xd9\\x15x\\x10\\xf9\\xa4\\x86\\xeb\\x1d\\x95\\xdc\\xd2\\x9b'\n",
      "Bits 0000110100111110100101010011111111001010001000001001000111010000001101001000111000110000010111111101100111010100000101101100101001101101100111011001111111011001000101010111100000010000111110011010010010000110111010110001110110010101110111001101001010011011\n",
      "prefix 00001\n",
      "mask: 00000\n",
      "nonce 21\n",
      "sha: b'\\x8f\\x83\\t8\\xf9\\x8a^\\xe8\\xa15\\x94n\\xf3\\xbd4L\\x91\\xc4\\xb8\\x16$\\xec\\xe2\\xd2}\\x8a\\xd3\\xf3\\x83P&\\x13'\n",
      "Bits 1000111110000011000010010011100011111001100010100101111011101000101000010011010110010100011011101111001110111101001101000100110010010001110001001011100000010110001001001110110011100010110100100111110110001010110100111111001110000011010100000010011000010011\n",
      "prefix 10001\n",
      "mask: 00000\n",
      "nonce 22\n",
      "sha: b'\\x93/\\x88\\x901\\xb59\\x89\\xb8\\xef\\x06]\\xac\\x94\\xdd\\xea9\\xea\\x83\\xe14\\xe5j\\xd6\\xf5\\x1e\\xdd\\x01\\xd7{\\xce\\xad'\n",
      "Bits 1001001100101111100010001001000000110001101101010011100110001001101110001110111100000110010111011010110010010100110111011110101000111001111010101000001111100001001101001110010101101010110101101111010100011110110111010000000111010111011110111100111010101101\n",
      "prefix 10010\n",
      "mask: 00000\n",
      "nonce 23\n",
      "sha: b'\\xb2\\xa2\\xc3I\\xf59\\x03m\\xf7\\xb7\\xbf\\xb2\\xb3[\\x0f\\xde4.\\x13\\xfb\\x12\\x17&\\\\N\\xc7\\x1d8\\xfcj\\xfd\\x16'\n",
      "Bits 1011001010100010110000110100100111110101001110010000001101101101111101111011011110111111101100101011001101011011000011111101111000110100001011100001001111111011000100100001011100100110010111000100111011000111000111010011100011111100011010101111110100010110\n",
      "prefix 10110\n",
      "mask: 00000\n",
      "nonce 24\n",
      "sha: b'\\x95\\xff\\xa5L\\xf5~k<Jx\\x89z.\\x88b|\\xb3:\\x82\\xdbv\\xc5\\x89\\xb8\\xfa\\x98\\x9c(+|\\xd0\\xad'\n",
      "Bits 1001010111111111101001010100110011110101011111100110101100111100010010100111100010001001011110100010111010001000011000100111110010110011001110101000001011011011011101101100010110001001101110001111101010011000100111000010100000101011011111001101000010101101\n",
      "prefix 10010\n",
      "mask: 00000\n",
      "nonce 25\n",
      "sha: b'\\xab+3\\x17\\x07Q\\x1dg\\x83&F\\xb9g:jA\\xe5\\x19\\xba\\x95\\xcb\\x15v`\\x18\\x80\\xccL\\xebE2<'\n",
      "Bits 1010101100101011001100110001011100000111010100010001110101100111100000110010011001000110101110010110011100111010011010100100000111100101000110011011101010010101110010110001010101110110011000000001100010000000110011000100110011101011010001010011001000111100\n",
      "prefix 10101\n",
      "mask: 00000\n",
      "nonce 26\n",
      "sha: b'vEP11\\x0b\\xec4m-\\x0e\\xd6\\x9b\\xb3\\xa0v\\x1c\\xb1\\xb6\\xce\\x168\\xad\\xb2Y\\x96N\\x1c^\\xde\\xe6\\xad'\n",
      "Bits 0111011001000101010100000011000100110001000010111110110000110100011011010010110100001110110101101001101110110011101000000111011000011100101100011011011011001110000101100011100010101101101100100101100110010110010011100001110001011110110111101110011010101101\n",
      "prefix 01110\n",
      "mask: 00000\n",
      "nonce 27\n",
      "sha: b'_*\\x0c\\x8328\\n\\xac\\xa5\\xf8~\\xad:`Vu\\xec\\x9dP\\xeeB\\xc5b\\x1cU\\x99\\x85\\xaa\\xbeM~\\xc7'\n",
      "Bits 0101111100101010000011001000001100110010001110000000101010101100101001011111100001111110101011010011101001100000010101100111010111101100100111010101000011101110010000101100010101100010000111000101010110011001100001011010101010111110010011010111111011000111\n",
      "prefix 01011\n",
      "mask: 00000\n",
      "nonce 28\n",
      "sha: b'\\xeb\\xa9\\xa2\\xcc\\xc4\\xfd\\xe3\\xa3\\x83\\x12\\xd3\\xb3\\xccw(O\\x0e\\xb6\\xa4j\\xbd\\xff\\x19\\xcbl\\xca\\x19\\x04\\xee\\xf2\\x8au'\n",
      "Bits 1110101110101001101000101100110011000100111111011110001110100011100000110001001011010011101100111100110001110111001010000100111100001110101101101010010001101010101111011111111100011001110010110110110011001010000110010000010011101110111100101000101001110101\n",
      "prefix 11101\n",
      "mask: 00000\n",
      "nonce 29\n",
      "sha: b't[\\xf0B\\x1a.\\x19,\\xed\\x0f\\x87\\xed3\\x93\\xbb\\xfef\\nS\\xc6h\\x98\\xa4~\\x1c0h\\xcb\\xa0\\x8b\\xbb\\x1d'\n",
      "Bits 0111010001011011111100000100001000011010001011100001100100101100111011010000111110000111111011010011001110010011101110111111111001100110000010100101001111000110011010001001100010100100011111100001110000110000011010001100101110100000100010111011101100011101\n",
      "prefix 01110\n",
      "mask: 00000\n",
      "nonce 30\n",
      "sha: b'\"\\x06Kg:\\x0c\\xb6\\x0c\\xa8\\x14R\\x99!;\\xa5\\x86\\r\\x1dl\\xe5\\xb2\\xe3\\xde\\xe9\\x16C\\xa6\\xcc\\xec\\xf2\\x9aC'\n",
      "Bits 0010001000000110010010110110011100111010000011001011011000001100101010000001010001010010100110010010000100111011101001011000011000001101000111010110110011100101101100101110001111011110111010010001011001000011101001101100110011101100111100101001101001000011\n",
      "prefix 00100\n",
      "mask: 00000\n",
      "nonce 31\n",
      "sha: b'\\xe3\\xf4\\xbcNk\\xda\\xf2GCp\\xac\\x9dv\\xc7\\xdb\\x96\\xc1\\xba\\x82\\xce\\x9c\\xfa\\xc3\\xba\\x7f!j\\xc7\\x93\\xbdz\"'\n",
      "Bits 1110001111110100101111000100111001101011110110101111001001000111010000110111000010101100100111010111011011000111110110111001011011000001101110101000001011001110100111001111101011000011101110100111111100100001011010101100011110010011101111010111101000100010\n",
      "prefix 11100\n",
      "mask: 00000\n",
      "nonce 32\n",
      "sha: b',\\xd5\\x04r\\xc6:V\\xe5\\xf5J\\xb8k\\x10L?N_\\xf3x\\xacZj\\xab\\xfb\\xd7n]\\xde\\xe9\\xe9\\xd8\\xa8'\n",
      "Bits 0010110011010101000001000111001011000110001110100101011011100101111101010100101010111000011010110001000001001100001111110100111001011111111100110111100010101100010110100110101010101011111110111101011101101110010111011101111011101001111010011101100010101000\n",
      "prefix 00101\n",
      "mask: 00000\n",
      "nonce 33\n",
      "sha: b'\\x98\\x8b\\x13\\t\\x18\\xc8H\\x98\\x95\\x1c2\\x04d\\xdf\\x8dd\\x0e/\\xe3\\r\\xded-V@\\xf4i\\x186\\xe4\\xf4\\xf7'\n",
      "Bits 1001100010001011000100110000100100011000110010000100100010011000100101010001110000110010000001000110010011011111100011010110010000001110001011111110001100001101110111100110010000101101010101100100000011110100011010010001100000110110111001001111010011110111\n",
      "prefix 10011\n",
      "mask: 00000\n",
      "nonce 34\n",
      "sha: b'y\\xfbK:B\\x12\\x1b\\xcb\\x82<\\x9c\\xd7\\x07\\x07\\xd5\\xa9#%t\\x8d?|\\x12l\\xb8\\xbake\\x1e\\xea\\x01='\n",
      "Bits 0111100111111011010010110011101001000010000100100001101111001011100000100011110010011100110101110000011100000111110101011010100100100011001001010111010010001101001111110111110000010010011011001011100010111010011010110110010100011110111010100000000100111101\n",
      "prefix 01111\n",
      "mask: 00000\n",
      "nonce 35\n",
      "sha: b'\\x05\\x10\\x9ep\\x81\\x18\\xbe\\x15%4_\\xd1L\\xad7\\xc8\\x96O\\x9emo\\x92\\xdd-\\xad\"\\x15\\'\\xb2\\x12A\\x1a'\n",
      "Bits 0000010100010000100111100111000010000001000110001011111000010101001001010011010001011111110100010100110010101101001101111100100010010110010011111001111001101101011011111001001011011101001011011010110100100010000101010010011110110010000100100100000100011010\n",
      "prefix 00000\n",
      "mask: 00000\n",
      "CPU times: user 31.9 ms, sys: 374 µs, total: 32.2 ms\n",
      "Wall time: 26.1 ms\n"
     ]
    }
   ],
   "source": [
    "%%time\n",
    "much_harder_blockchain = Blockchain()\n",
    "much_harder_blockchain.difficulty = 5  # hardcore level\n",
    "create_test_transactions(much_harder_blockchain)"
   ]
  },
  {
   "cell_type": "code",
   "execution_count": 100,
   "metadata": {},
   "outputs": [
    {
     "name": "stdout",
     "output_type": "stream",
     "text": [
      "Blockchain verification PASSED\n"
     ]
    }
   ],
   "source": [
    "verify(harder_blockchain)"
   ]
  },
  {
   "cell_type": "code",
   "execution_count": null,
   "metadata": {},
   "outputs": [],
   "source": []
  }
 ],
 "metadata": {
  "kernelspec": {
   "display_name": "Python 3",
   "language": "python",
   "name": "python3"
  },
  "language_info": {
   "codemirror_mode": {
    "name": "ipython",
    "version": 3
   },
   "file_extension": ".py",
   "mimetype": "text/x-python",
   "name": "python",
   "nbconvert_exporter": "python",
   "pygments_lexer": "ipython3",
   "version": "3.7.0"
  }
 },
 "nbformat": 4,
 "nbformat_minor": 2
}
